{
  "nbformat": 4,
  "nbformat_minor": 0,
  "metadata": {
    "colab": {
      "provenance": []
    },
    "kernelspec": {
      "name": "python3",
      "display_name": "Python 3"
    },
    "language_info": {
      "name": "python"
    }
  },
  "cells": [
    {
      "cell_type": "code",
      "execution_count": 1,
      "metadata": {
        "id": "A-4YP5HPmRCQ",
        "colab": {
          "base_uri": "https://localhost:8080/"
        },
        "outputId": "0dbc2702-13fc-44c3-c757-0f2813d73311"
      },
      "outputs": [
        {
          "output_type": "stream",
          "name": "stdout",
          "text": [
            "Collecting rasterio\n",
            "  Downloading rasterio-1.4.3-cp311-cp311-manylinux_2_17_x86_64.manylinux2014_x86_64.whl.metadata (9.1 kB)\n",
            "Collecting affine (from rasterio)\n",
            "  Downloading affine-2.4.0-py3-none-any.whl.metadata (4.0 kB)\n",
            "Requirement already satisfied: attrs in /usr/local/lib/python3.11/dist-packages (from rasterio) (25.3.0)\n",
            "Requirement already satisfied: certifi in /usr/local/lib/python3.11/dist-packages (from rasterio) (2025.1.31)\n",
            "Requirement already satisfied: click>=4.0 in /usr/local/lib/python3.11/dist-packages (from rasterio) (8.1.8)\n",
            "Collecting cligj>=0.5 (from rasterio)\n",
            "  Downloading cligj-0.7.2-py3-none-any.whl.metadata (5.0 kB)\n",
            "Requirement already satisfied: numpy>=1.24 in /usr/local/lib/python3.11/dist-packages (from rasterio) (2.0.2)\n",
            "Collecting click-plugins (from rasterio)\n",
            "  Downloading click_plugins-1.1.1-py2.py3-none-any.whl.metadata (6.4 kB)\n",
            "Requirement already satisfied: pyparsing in /usr/local/lib/python3.11/dist-packages (from rasterio) (3.2.3)\n",
            "Downloading rasterio-1.4.3-cp311-cp311-manylinux_2_17_x86_64.manylinux2014_x86_64.whl (22.2 MB)\n",
            "\u001b[2K   \u001b[90m━━━━━━━━━━━━━━━━━━━━━━━━━━━━━━━━━━━━━━━━\u001b[0m \u001b[32m22.2/22.2 MB\u001b[0m \u001b[31m18.5 MB/s\u001b[0m eta \u001b[36m0:00:00\u001b[0m\n",
            "\u001b[?25hDownloading cligj-0.7.2-py3-none-any.whl (7.1 kB)\n",
            "Downloading affine-2.4.0-py3-none-any.whl (15 kB)\n",
            "Downloading click_plugins-1.1.1-py2.py3-none-any.whl (7.5 kB)\n",
            "Installing collected packages: cligj, click-plugins, affine, rasterio\n",
            "Successfully installed affine-2.4.0 click-plugins-1.1.1 cligj-0.7.2 rasterio-1.4.3\n"
          ]
        }
      ],
      "source": [
        "!pip install rasterio"
      ]
    },
    {
      "cell_type": "markdown",
      "source": [
        "#Detecção de faixa de preservação de rios\n",
        "\n",
        "##Introdução\n",
        "De acordo com a legislação ambiental brasileira, os corpos hídricos devem ser acompanhados por Áreas de Preservação Permanente (APPs) ao longo de suas margens. A largura dessas faixas de preservação varia conforme a largura do próprio rio, com o objetivo de proteger a vegetação nativa, evitar processos erosivos e preservar a qualidade da água.\n",
        "\n",
        "Este projeto tem como objetivo aplicar técnicas de visão computacional em imagens de satélite para detectar rios e analisar automaticamente se suas margens estão respeitando os limites exigidos por lei para as APPs."
      ],
      "metadata": {
        "id": "fCz9vkxbmZ-Y"
      }
    },
    {
      "cell_type": "markdown",
      "source": [
        "#Desenvolvimento"
      ],
      "metadata": {
        "id": "_ToSX9b3O95P"
      }
    },
    {
      "cell_type": "markdown",
      "source": [
        "Existem satelites cujas imagens são acessiveis gratuitamente, como o Sentinel-2, sendo necessário apenas registrar-se. O Sentinel-2 também possui datasets com imagens que são compostas por varias imagens unidas, de forma a remover nuvens e sombras. Cada dataset desse é composto por um arquivo .tif contedo a imagem de uma área para cada banda do espectro registrada, como a Azul, Verde, Vermelha e InfraVermelho.\n",
        "\n",
        "[Aqui é possível encontrar imagens mosaicos do Sentinel-2](https://browser.stac.dataspace.copernicus.eu/collections/sentinel-2-global-mosaics)"
      ],
      "metadata": {
        "id": "Q3d78oOPNaz9"
      }
    },
    {
      "cell_type": "markdown",
      "source": [
        "#**Definindo o caminho para os arquivos de imagem (importante para conseguir rodar)**\n",
        "Como os arquivos da imagem de satelite são muito grandes (cerca de 600 MB no total), a melhor forma de utilizá-los no Google Colab sem precisar baixá-los a cada execução é salvar no Google Drive e acessá-los montando o Drive à instância do colab.\n",
        "\n",
        "Instruções para utilizar o código como está:\n",
        "\n",
        "\n",
        "1.   [Link para o Drive com os arquivos utilizados](https://drive.google.com/drive/folders/1UvuaiLn4GmCVSSatLX-ALwVZoWUEUH8O?usp=sharing)\n",
        "2.   clicar no triangulo ao lado de \"Compartilhados comigo > visao computacional\"\n",
        "3.   ir em \"Organizar\", \"Adicionar Atalho\", \"Todos os Locais\" e adicionar em \"Meu Drive\"\n",
        "4.   Depois, no Colab, na aba lateral com os arquivos da instância, habilitar a opção \"Mount Drive\""
      ],
      "metadata": {
        "id": "TS_eIdlrbgSd"
      }
    },
    {
      "cell_type": "code",
      "source": [
        "green_band_path = '/content/drive/MyDrive/visao computacional/sentinel 2 mosaico interior sp/B03.tif'\n",
        "nir_band_path = '/content/drive/MyDrive/visao computacional/sentinel 2 mosaico interior sp/B08.tif'\n",
        "red_band_path = '/content/drive/MyDrive/visao computacional/sentinel 2 mosaico interior sp/B04.tif'\n",
        "blue_band_path = '/content/drive/MyDrive/visao computacional/sentinel 2 mosaico interior sp/B02.tif'"
      ],
      "metadata": {
        "id": "3lgsoWkGbW2f"
      },
      "execution_count": 2,
      "outputs": []
    },
    {
      "cell_type": "markdown",
      "source": [
        "O arquivo .tif possui a resolução do satelite. Esse valor indica o tamanho da área representada por cada pixel da imagem. Nesse caso, cada pixel representa uma área de 10m x 10m, consistente com a resolução de 10m do Sentinel-2."
      ],
      "metadata": {
        "id": "XIKF3_M9LXBp"
      }
    },
    {
      "cell_type": "code",
      "source": [
        "import rasterio\n",
        "\n",
        "with rasterio.open('/content/drive/MyDrive/visao computacional/sentinel 2 mosaico interior sp/B02.tif') as src:\n",
        "    print(\"Resolução (pixel size):\", src.res)"
      ],
      "metadata": {
        "colab": {
          "base_uri": "https://localhost:8080/"
        },
        "id": "8kuHGPQgHaBq",
        "outputId": "410efd63-1498-4ac8-927d-e2fdb919bf35"
      },
      "execution_count": 3,
      "outputs": [
        {
          "output_type": "stream",
          "name": "stdout",
          "text": [
            "Resolução (pixel size): (10.0, 10.0)\n"
          ]
        }
      ]
    },
    {
      "cell_type": "markdown",
      "source": [
        "Essa resolução não é a melhor para analisar rios estreitos, pois um rio com menos de 10 metros de largura pode nem aparecer na imagem. Nesse caso, existem satelites comerciais, como o PlanetScope, que possuem resoluções maiores. No entanto, ainda podemos analisar rios maiores e sua faixa de APP com as imagens do Sentinel-2."
      ],
      "metadata": {
        "id": "WLP_KwQdMNwb"
      }
    },
    {
      "cell_type": "markdown",
      "source": [
        "# Juntar bandas para visualização\n",
        "Começamos por ler cada banda, e juntar as RGB para poder visualizar a imagem do satelite"
      ],
      "metadata": {
        "id": "oTeLdtKNT_lB"
      }
    },
    {
      "cell_type": "code",
      "source": [
        "import numpy as np\n",
        "import cv2\n",
        "\n",
        "with rasterio.open(blue_band_path) as blue_src:\n",
        "    blue_band = blue_src.read(1, masked=True)  # le os valores da banda presente no arquivo\n",
        "    blue_band = blue_band.filled(blue_band.min())  # Há valores invalidos, preenche eles com um valor placeholder\n",
        "with rasterio.open(green_band_path) as green_src:\n",
        "    green_band = green_src.read(1, masked=True)\n",
        "    green_band = green_band.filled(green_band.min())\n",
        "with rasterio.open(red_band_path) as red_src:\n",
        "    red_band = red_src.read(1, masked=True)\n",
        "    red_band = red_band.filled(red_band.min())\n",
        "with rasterio.open(nir_band_path) as nir_src:\n",
        "    nir_band = nir_src.read(1, masked=True)\n",
        "    nir_band = nir_band.filled(nir_band.max())"
      ],
      "metadata": {
        "id": "qMyCLQr2lkRe"
      },
      "execution_count": 4,
      "outputs": []
    },
    {
      "cell_type": "code",
      "source": [
        "# para criar a imagem RGB, combina as 3 bandas. Para isso, é necessário tranformar elas de int16 para 8bit, e normalizar os valores de 0 a 255\n",
        "combined_image = cv2.merge([np.uint8(cv2.normalize(blue_band, None, 0, 255, cv2.NORM_MINMAX)),\n",
        "                            np.uint8(cv2.normalize(green_band, None, 0, 255, cv2.NORM_MINMAX)),\n",
        "                            np.uint8(cv2.normalize(red_band, None, 0, 255, cv2.NORM_MINMAX))])\n",
        "\n",
        "# Por algum motivo, a imagem fica meio escura\n",
        "# Aumenta o brilho da imagem\n",
        "combined_image = cv2.convertScaleAbs(combined_image, alpha=3, beta=0)\n",
        "#Salva imagem para visualização\n",
        "cv2.imwrite('combined_image.png', combined_image)"
      ],
      "metadata": {
        "colab": {
          "base_uri": "https://localhost:8080/"
        },
        "id": "I7C80BdhtV6a",
        "outputId": "7d77173a-d7f4-45a9-8bda-0cd6b3b2bbbb"
      },
      "execution_count": 5,
      "outputs": [
        {
          "output_type": "execute_result",
          "data": {
            "text/plain": [
              "True"
            ]
          },
          "metadata": {},
          "execution_count": 5
        }
      ]
    },
    {
      "cell_type": "markdown",
      "source": [
        "# Segmentar rios\n",
        "## Metodo NDWI\n",
        "NDWI é um metodo para detectar bacias hidrograficas em imagens de satélites.\n",
        "\n",
        "$\\text{NDWI} = \\frac{\\text{Verde} - \\text{NIR}}{\\text{Verde} + \\text{NIR}}$\n",
        "\n",
        "Valores mais proximos de 1 indicam agua. Podemos utilizar o NDWI como uma nova banda da imagem, realçando rios e reservatorios de água."
      ],
      "metadata": {
        "id": "x7aaGfQZbVQP"
      }
    },
    {
      "cell_type": "code",
      "source": [
        "# calculo NDWI com um numero minusculo adicionado ao denominador para evitar divisão por 0\n",
        "ndwi = (green_band - nir_band) / (green_band + nir_band + 1e-10)\n",
        "print(ndwi.min(), ndwi.max())\n",
        "# Valores invalidos nas bandas podem gerar um NDWI fora do padrão (deve ser entre -1 e 1)\n",
        "# Clipa valores que estão fora do padrão\n",
        "ndwi = np.clip(ndwi, -1, 1)\n",
        "\n",
        "# Salva NDWI para um png, para visualização, para isso, normaliza os valores entre 0 e 255 (adiciona 1 para modificar o intervalo de -1,1 para 0,2 e multiplica por 127.5 (que é 255/2) para chegar de 0,255 )\n",
        "cv2.imwrite('ndwi_output.png', ((ndwi + 1) * 127.5).astype(np.uint8))"
      ],
      "metadata": {
        "colab": {
          "base_uri": "https://localhost:8080/"
        },
        "id": "OcHDbWO-EP_f",
        "outputId": "5f5107ee-92d2-4539-e683-41cf8482d4a1"
      },
      "execution_count": 6,
      "outputs": [
        {
          "output_type": "stream",
          "name": "stdout",
          "text": [
            "-111.0000000111 1000000000000.0\n"
          ]
        },
        {
          "output_type": "execute_result",
          "data": {
            "text/plain": [
              "True"
            ]
          },
          "metadata": {},
          "execution_count": 6
        }
      ]
    },
    {
      "cell_type": "markdown",
      "source": [
        "### Geração mascara binaria\n",
        "\n",
        "Geramos uma mascara binaria onde apenas pixels com valor de NDWI acima de 0 recebem o valor 1."
      ],
      "metadata": {
        "id": "rhgHR4PKVyFA"
      }
    },
    {
      "cell_type": "code",
      "source": [
        "#NDWI maior que um threshold (nesse caso 0) pode ser considerado agua (o valor de threshold pode ser modificado)\n",
        "water_mask = np.where(ndwi > 0, 1, 0)\n",
        "\n",
        "#salva mascara para visualização\n",
        "cv2.imwrite('water_mask.png', (water_mask*255).astype(np.uint8))"
      ],
      "metadata": {
        "colab": {
          "base_uri": "https://localhost:8080/"
        },
        "id": "ZXGW6IGCVYgA",
        "outputId": "43ad35b7-a77c-422d-9427-28431345f05e"
      },
      "execution_count": 7,
      "outputs": [
        {
          "output_type": "execute_result",
          "data": {
            "text/plain": [
              "True"
            ]
          },
          "metadata": {},
          "execution_count": 7
        }
      ]
    },
    {
      "cell_type": "markdown",
      "source": [
        "Podemos tratar essa mascara para tentar diminuir os ruidos"
      ],
      "metadata": {
        "id": "I5b33tORc5EH"
      }
    },
    {
      "cell_type": "code",
      "source": [
        "from skimage.morphology import remove_small_objects, closing, disk\n",
        "from scipy.ndimage import binary_fill_holes\n",
        "\n",
        "#remover objetos menores que um numero dado (5)\n",
        "water_mask = remove_small_objects(water_mask.astype(bool), min_size=5)\n",
        "\n",
        "#conectar objetos separados por muito pouco (tenta unir segmentos de rios separados)\n",
        "water_mask = closing(water_mask, disk(3))\n",
        "\n",
        "#preenche buracos em objetos\n",
        "water_mask = binary_fill_holes(water_mask)\n",
        "\n",
        "cv2.imwrite('water_mask_tratada.png', (water_mask*255).astype(np.uint8))"
      ],
      "metadata": {
        "colab": {
          "base_uri": "https://localhost:8080/"
        },
        "id": "AraEY2t3wJf9",
        "outputId": "6d1463de-067f-46ec-9599-7496cda01bff"
      },
      "execution_count": 8,
      "outputs": [
        {
          "output_type": "execute_result",
          "data": {
            "text/plain": [
              "True"
            ]
          },
          "metadata": {},
          "execution_count": 8
        }
      ]
    },
    {
      "cell_type": "markdown",
      "source": [
        "# Calculo da largura do rio\n",
        "\n",
        "## Utilizando Distance Transform e Skeletonization\n",
        "O distance transform é uma técnica usada para calcular a distância de cada pixel em uma imagem até o pixel mais próximo de um objeto (normalmente representado por pixels de valor 1 em uma máscara binária). Quando aplicado em uma máscara binária de rios, ele transforma a imagem de forma que cada pixel da água recebe o valor da distância até a borda da água. O medial axis (ou eixo medial) pode então ser calculado a partir dessa transformação, representando a linha central dos rios. A largura do rio em cada ponto é obtida medindo a distância entre o eixo medial e as bordas do rio, aproveitando os valores do distance transform."
      ],
      "metadata": {
        "id": "aDjQ6vvtWfWw"
      }
    },
    {
      "cell_type": "code",
      "source": [
        "from skimage.morphology import medial_axis\n",
        "\n",
        "# função medial_axis já retorna o eixo medial e o valor da distancia em cada ponto desse eixo\n",
        "skeleton, distance_on_skeleton = medial_axis(water_mask, return_distance=True)"
      ],
      "metadata": {
        "id": "Wn5DmzqpCdgx"
      },
      "execution_count": 9,
      "outputs": []
    },
    {
      "cell_type": "markdown",
      "source": [
        "###Visualizando o esqueleto"
      ],
      "metadata": {
        "id": "X3jfp7AKZJ0K"
      }
    },
    {
      "cell_type": "code",
      "source": [
        "# visualização do esqueleto\n",
        "cv2.imwrite('esqueleto.png', (skeleton * 255).astype(np.uint8))"
      ],
      "metadata": {
        "colab": {
          "base_uri": "https://localhost:8080/"
        },
        "id": "SlVNVORcK3QL",
        "outputId": "2b54bdb7-0d3d-4a84-d64a-4b445883c03a"
      },
      "execution_count": 10,
      "outputs": [
        {
          "output_type": "execute_result",
          "data": {
            "text/plain": [
              "True"
            ]
          },
          "metadata": {},
          "execution_count": 10
        }
      ]
    },
    {
      "cell_type": "code",
      "source": [
        "#Para sobrepor o esqueleto com a imagem de satelite, precisa criar um overlay igual a imagem\n",
        "overlay = combined_image.copy()\n",
        "#fazer assim certifica que vai usar NumPy (é possível acabar usando estruturas nativas do python e demorar anos pra rodar)\n",
        "skeleton_indices = np.where(skeleton)\n",
        "\n",
        "#os indices são os locais dos pixels do esqueleto, então pinta esses pixels de branco no overlay\n",
        "overlay[skeleton_indices] = [255, 255, 255]   # Branco\n",
        "\n",
        "#transpoem o overlay na imagem (por isso é bom o overlay ser igual a imagem, se usar uma matriz com zeros, a imagem escurece)\n",
        "blend = cv2.addWeighted(combined_image, 0, overlay, 1, 0)\n",
        "\n",
        "cv2.imwrite('satelite_com_esqueleto.png', blend)"
      ],
      "metadata": {
        "colab": {
          "base_uri": "https://localhost:8080/"
        },
        "id": "jVPAGroJuZYq",
        "outputId": "ab2d0af0-5ac3-45a2-a9b3-de0a5b5deb24"
      },
      "execution_count": 11,
      "outputs": [
        {
          "output_type": "execute_result",
          "data": {
            "text/plain": [
              "True"
            ]
          },
          "metadata": {},
          "execution_count": 11
        }
      ]
    },
    {
      "cell_type": "markdown",
      "source": [
        "# Geração da APP apropriada"
      ],
      "metadata": {
        "id": "Y26c2_sCat8d"
      }
    },
    {
      "cell_type": "code",
      "source": [
        "#função para calcular a APP\n",
        "def app(largura):\n",
        "  if largura == 1:\n",
        "    return 3\n",
        "  elif largura > 1 and largura <= 5:\n",
        "    return 5\n",
        "  elif largura > 5 and largura <= 20:\n",
        "    return 10\n",
        "  elif largura > 20 and largura <= 60:\n",
        "    return 20\n",
        "  elif largura > 60:\n",
        "    return 50"
      ],
      "metadata": {
        "id": "Pfm4tf_DJ2vi"
      },
      "execution_count": 12,
      "outputs": []
    },
    {
      "cell_type": "markdown",
      "source": [
        "Para a criação de uma máscara com a APP apropriada, podemos, para cada pixel do esqueleto, gerar círculos com raio igual à soma da distância até a margem e da largura da APP apropriada."
      ],
      "metadata": {
        "id": "TCiXccIqiFLX"
      }
    },
    {
      "cell_type": "code",
      "source": [
        "# mascara para APPs\n",
        "app_mask = np.zeros_like(water_mask, dtype=np.uint8)\n",
        "\n",
        "# Iterar pelos pixels na mascara com o esqueleto\n",
        "for y in range(skeleton.shape[0]):\n",
        "    for x in range(skeleton.shape[1]):\n",
        "        if skeleton[y, x]:  # se o pixel faz parte do esqueleto\n",
        "            distance = distance_on_skeleton[y, x] #pega o valor da distancia da margem pra esse pixel\n",
        "\n",
        "            # cria um circulo de raio (distancia até a margem + largura da app apropriada)\n",
        "            # a largura do rio seria a distancia do centro até a margem * 2\n",
        "            radius = int(distance + app(distance*2))\n",
        "            if radius > 0:\n",
        "                cv2.circle(app_mask, (x, y), radius, 1, thickness=-1) #thickness=-1 faz com que seja um circulo e não só uma circunferencia\n",
        "\n",
        "#visualização\n",
        "cv2.imwrite('app_mask_circulos.png', (app_mask * 255).astype(np.uint8))\n"
      ],
      "metadata": {
        "colab": {
          "base_uri": "https://localhost:8080/"
        },
        "id": "kD1Q2VzaL7cl",
        "outputId": "6daadbd5-89d7-494c-d317-728eeaee2225"
      },
      "execution_count": 13,
      "outputs": [
        {
          "output_type": "execute_result",
          "data": {
            "text/plain": [
              "True"
            ]
          },
          "metadata": {},
          "execution_count": 13
        }
      ]
    },
    {
      "cell_type": "markdown",
      "source": [
        "A máscara gerada também comtem áreas que fazem parte do rio. Para remover essas áreas e garantir que apenas a APP seja representada, comparamos a máscara criada com a water_mask, que indica as regiões ocupadas pela água. Quando ambas as máscaras têm valor 1 na mesma posição, removemos esse pixel da máscara da APP."
      ],
      "metadata": {
        "id": "F5SL_Sryjun3"
      }
    },
    {
      "cell_type": "code",
      "source": [
        "# AND entre a mascara com as APPS e o inverso da water_mask\n",
        "app_mask = app_mask & (1 - water_mask)\n",
        "\n",
        "#visualização\n",
        "cv2.imwrite('app_mask.png', (app_mask * 255).astype(np.uint8))\n"
      ],
      "metadata": {
        "colab": {
          "base_uri": "https://localhost:8080/"
        },
        "id": "nfX8A-wUNAJB",
        "outputId": "c6014f88-0453-417d-99b4-1693d776523c"
      },
      "execution_count": 14,
      "outputs": [
        {
          "output_type": "execute_result",
          "data": {
            "text/plain": [
              "True"
            ]
          },
          "metadata": {},
          "execution_count": 14
        }
      ]
    },
    {
      "cell_type": "code",
      "source": [
        "#igual a visualização do esqueleto\n",
        "overlay = combined_image.copy()\n",
        "mask_indices = np.where(app_mask)\n",
        "\n",
        "overlay[mask_indices] = [255, 255, 255]   # Branco\n",
        "\n",
        "blended = cv2.addWeighted(combined_image, 0.7, overlay, 0.3, 0)\n",
        "\n",
        "# Save the resulting overlay\n",
        "cv2.imwrite('satelite_com_app.png', blended)\n"
      ],
      "metadata": {
        "colab": {
          "base_uri": "https://localhost:8080/"
        },
        "id": "STHXJyZ1Q3hd",
        "outputId": "6052129d-899e-4a02-b92f-559184862217"
      },
      "execution_count": 15,
      "outputs": [
        {
          "output_type": "execute_result",
          "data": {
            "text/plain": [
              "True"
            ]
          },
          "metadata": {},
          "execution_count": 15
        }
      ]
    },
    {
      "cell_type": "markdown",
      "source": [
        "# Detecção de transgressões em APPs\n",
        "\n",
        "### Utilizando NDVI para detectar desmatamento"
      ],
      "metadata": {
        "id": "9A4cMirt-Dgt"
      }
    },
    {
      "cell_type": "markdown",
      "source": [
        "NDVI é um indice utilizado para medir a saúde da vegetação. Vegetação mais densa tem valores proximos de 1, enquanto areas sem nenhuma vegetação tem valores proximos do -1."
      ],
      "metadata": {
        "id": "9jwOw-H3c-kE"
      }
    },
    {
      "cell_type": "code",
      "source": [
        "#calculo ndvi\n",
        "ndvi = (nir_band - red_band) / (nir_band + red_band + 1e-10)\n",
        "#certificar que ndvi está corretamente entre -1 e 1\n",
        "print(ndwi.min(), ndwi.max())\n",
        "#visualização, igual ao de ndwi\n",
        "cv2.imwrite('ndvi_output.png', ((ndvi + 1) * 127.5).astype(np.uint8))"
      ],
      "metadata": {
        "colab": {
          "base_uri": "https://localhost:8080/"
        },
        "id": "I7R4knG9-Jo_",
        "outputId": "fa14c4a7-345e-419c-bf1f-7ba97197f6c1"
      },
      "execution_count": 16,
      "outputs": [
        {
          "output_type": "stream",
          "name": "stdout",
          "text": [
            "-1.0 1.0\n"
          ]
        },
        {
          "output_type": "stream",
          "name": "stderr",
          "text": [
            "<ipython-input-16-2a013865a338>:6: RuntimeWarning: invalid value encountered in cast\n",
            "  cv2.imwrite('ndvi_output.png', ((ndvi + 1) * 127.5).astype(np.uint8))\n"
          ]
        },
        {
          "output_type": "execute_result",
          "data": {
            "text/plain": [
              "True"
            ]
          },
          "metadata": {},
          "execution_count": 16
        }
      ]
    },
    {
      "cell_type": "markdown",
      "source": [
        "###Mascara de desmatamento\n",
        "Assim como no caso da mascara com NDWI, geramos uma mascara de desmatamento estabelecendo um limiar para o NDVI."
      ],
      "metadata": {
        "id": "xxZANUTjdVFe"
      }
    },
    {
      "cell_type": "code",
      "source": [
        "defos_mask = np.where(ndvi < 0.4, 1, 0)\n",
        "cv2.imwrite('defos_mask.png', (defos_mask*255).astype(np.uint8))"
      ],
      "metadata": {
        "colab": {
          "base_uri": "https://localhost:8080/"
        },
        "id": "ztk83YckDrdY",
        "outputId": "458c164d-cf6f-4e78-edb7-30a6653a02c1"
      },
      "execution_count": 17,
      "outputs": [
        {
          "output_type": "execute_result",
          "data": {
            "text/plain": [
              "True"
            ]
          },
          "metadata": {},
          "execution_count": 17
        }
      ]
    },
    {
      "cell_type": "markdown",
      "source": [
        "Geramos uma nova mascara, contendo as areas de APPs desmatadas, fazendo a intersecção da mascara de APPs com a de desmatamento."
      ],
      "metadata": {
        "id": "V9jkiDabdhGU"
      }
    },
    {
      "cell_type": "code",
      "source": [
        "#dilata um pouquinho os rios para remover eles da mascara de desmatamento\n",
        "#porque a margem imediata dos rios não tem vegetação e estava sendo marcada como desmatamento\n",
        "defos_mask = defos_mask & (1 - cv2.dilate(water_mask.astype(np.uint8), np.ones((3, 3), np.uint8), iterations=2))\n",
        "cv2.imwrite('desmatamento_mask.png', (defos_mask*255).astype(np.uint8))\n",
        "#as areas de APPs desmatadas seriam a intersecção da mascara de app com a de desmatamento\n",
        "app_transgression = app_mask & defos_mask\n",
        "cv2.imwrite('transgressoes_app_mask.png', (app_transgression*255).astype(np.uint8))"
      ],
      "metadata": {
        "colab": {
          "base_uri": "https://localhost:8080/"
        },
        "id": "mZog_mcaEbZx",
        "outputId": "5badff64-3c59-4131-bd72-34cbc68413d9"
      },
      "execution_count": 18,
      "outputs": [
        {
          "output_type": "execute_result",
          "data": {
            "text/plain": [
              "True"
            ]
          },
          "metadata": {},
          "execution_count": 18
        }
      ]
    },
    {
      "cell_type": "markdown",
      "source": [
        "#Visualizaçao Final\n",
        "Combinando a mascara de APPs demarcadas, a mascara de transgressões em APPs, e a imagem de satelite, podemos visualizar o resultado"
      ],
      "metadata": {
        "id": "Hx68EwnVedZl"
      }
    },
    {
      "cell_type": "code",
      "source": [
        "# Mesmo procedimento de sobreposição na imagem de satelite, mas com dois overlays\n",
        "app_overlay = combined_image.copy()\n",
        "mask_indices_app = np.where(app_mask)\n",
        "\n",
        "app_transgression_overlay = combined_image.copy()\n",
        "mask_indices_app_transgression = np.where(app_transgression)\n",
        "\n",
        "app_overlay[mask_indices_app] = [255, 255, 255]  # Branco para as APPs\n",
        "app_transgression_overlay[mask_indices_app_transgression] = [0, 0, 255]    # Vermelho para as transgressões\n",
        "\n",
        "alpha_restricted = 0.3  # 30% de transparencia para o branco\n",
        "alpha_transgression = 0.5  # 50% de transparencia para o vermelho\n",
        "\n",
        "# sobrepoem os dois à imagem de satelite\n",
        "blended = cv2.addWeighted(combined_image, 1 - alpha_restricted, app_overlay, alpha_restricted, 0)\n",
        "blended = cv2.addWeighted(blended, 1 - alpha_transgression, app_transgression_overlay, alpha_transgression, 0)\n",
        "\n",
        "# salva para visualização\n",
        "cv2.imwrite('satellite_with_two_overlays.png', blended)"
      ],
      "metadata": {
        "colab": {
          "base_uri": "https://localhost:8080/"
        },
        "id": "XbMrsTGgG3aV",
        "outputId": "5870b66e-7f0e-4a75-9b6c-7a4b5ef11002"
      },
      "execution_count": 19,
      "outputs": [
        {
          "output_type": "execute_result",
          "data": {
            "text/plain": [
              "True"
            ]
          },
          "metadata": {},
          "execution_count": 19
        }
      ]
    },
    {
      "cell_type": "markdown",
      "source": [
        "Como a mascara binaria é uma matriz com 1 ou 0, podemos calcular a porcentagem de transgressões somando todos os 1s de cada mascara"
      ],
      "metadata": {
        "id": "PNjToLRYgDEy"
      }
    },
    {
      "cell_type": "code",
      "source": [
        "print(app_transgression.sum()/app_mask.sum())"
      ],
      "metadata": {
        "colab": {
          "base_uri": "https://localhost:8080/"
        },
        "id": "1DVaAtMBO4Br",
        "outputId": "2369b7ed-d84e-4632-8513-e406e5ef0f20"
      },
      "execution_count": 20,
      "outputs": [
        {
          "output_type": "stream",
          "name": "stdout",
          "text": [
            "0.14299636854138842\n"
          ]
        }
      ]
    }
  ]
}